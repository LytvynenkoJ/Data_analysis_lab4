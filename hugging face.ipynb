{
 "cells": [
  {
   "cell_type": "code",
   "execution_count": 1,
   "id": "fc677996",
   "metadata": {},
   "outputs": [],
   "source": [
    "from transformers import pipeline\n",
    "from transformers import AutoTokenizer, AutoModelForSequenceClassification\n",
    "import torch"
   ]
  },
  {
   "cell_type": "code",
   "execution_count": 2,
   "id": "fc45c5bc",
   "metadata": {},
   "outputs": [
    {
     "name": "stderr",
     "output_type": "stream",
     "text": [
      "No model was supplied, defaulted to distilbert-base-uncased-finetuned-sst-2-english and revision af0f99b (https://huggingface.co/distilbert-base-uncased-finetuned-sst-2-english).\n",
      "Using a pipeline without specifying a model name and revision in production is not recommended.\n"
     ]
    }
   ],
   "source": [
    "classifier = pipeline('sentiment-analysis')"
   ]
  },
  {
   "cell_type": "code",
   "execution_count": 3,
   "id": "2c328140",
   "metadata": {},
   "outputs": [],
   "source": [
    "raw_inputs = [\n",
    "   \"I really love fluffy things!\",\n",
    "    \"I hate rice so much!\",\n",
    "    \"I don't know whether I love or hate snakes.\",\n",
    "    \"I think that snakes are scaring.\",\n",
    "    \"Cats are cute!\",\n",
    "]"
   ]
  },
  {
   "cell_type": "code",
   "execution_count": 4,
   "id": "9f41533b",
   "metadata": {},
   "outputs": [
    {
     "data": {
      "text/plain": [
       "[{'label': 'POSITIVE', 'score': 0.9998101592063904},\n",
       " {'label': 'NEGATIVE', 'score': 0.9984360337257385},\n",
       " {'label': 'NEGATIVE', 'score': 0.9994237422943115},\n",
       " {'label': 'NEGATIVE', 'score': 0.9832170009613037},\n",
       " {'label': 'POSITIVE', 'score': 0.9998457431793213}]"
      ]
     },
     "execution_count": 4,
     "metadata": {},
     "output_type": "execute_result"
    }
   ],
   "source": [
    "classifier(raw_inputs)"
   ]
  },
  {
   "cell_type": "code",
   "execution_count": 5,
   "id": "b21187e1",
   "metadata": {},
   "outputs": [],
   "source": [
    "checkpoint = \"distilbert-base-uncased-finetuned-sst-2-english\"\n",
    "tokenizer = AutoTokenizer.from_pretrained(checkpoint)"
   ]
  },
  {
   "cell_type": "code",
   "execution_count": 6,
   "id": "2d3e49fa",
   "metadata": {},
   "outputs": [
    {
     "data": {
      "text/plain": [
       "{'input_ids': tensor([[  101,  1045,  2428,  2293, 27036,  2477,   999,   102,     0,     0,\n",
       "             0,     0,     0,     0],\n",
       "        [  101,  1045,  5223,  5785,  2061,  2172,   999,   102,     0,     0,\n",
       "             0,     0,     0,     0],\n",
       "        [  101,  1045,  2123,  1005,  1056,  2113,  3251,  1045,  2293,  2030,\n",
       "          5223, 12971,  1012,   102],\n",
       "        [  101,  1045,  2228,  2008, 12971,  2024, 11228,  2075,  1012,   102,\n",
       "             0,     0,     0,     0],\n",
       "        [  101,  8870,  2024, 10140,   999,   102,     0,     0,     0,     0,\n",
       "             0,     0,     0,     0]]), 'attention_mask': tensor([[1, 1, 1, 1, 1, 1, 1, 1, 0, 0, 0, 0, 0, 0],\n",
       "        [1, 1, 1, 1, 1, 1, 1, 1, 0, 0, 0, 0, 0, 0],\n",
       "        [1, 1, 1, 1, 1, 1, 1, 1, 1, 1, 1, 1, 1, 1],\n",
       "        [1, 1, 1, 1, 1, 1, 1, 1, 1, 1, 0, 0, 0, 0],\n",
       "        [1, 1, 1, 1, 1, 1, 0, 0, 0, 0, 0, 0, 0, 0]])}"
      ]
     },
     "execution_count": 6,
     "metadata": {},
     "output_type": "execute_result"
    }
   ],
   "source": [
    "inputs = tokenizer(raw_inputs, padding=True, truncation=True, return_tensors=\"pt\")\n",
    "inputs"
   ]
  },
  {
   "cell_type": "code",
   "execution_count": 7,
   "id": "57096a80",
   "metadata": {},
   "outputs": [
    {
     "data": {
      "text/plain": [
       "['i', 'really', 'love', 'fluffy', 'things', '!']"
      ]
     },
     "execution_count": 7,
     "metadata": {},
     "output_type": "execute_result"
    }
   ],
   "source": [
    "tokens = tokenizer.tokenize(raw_inputs[0])\n",
    "tokens"
   ]
  },
  {
   "cell_type": "code",
   "execution_count": 8,
   "id": "8907c259",
   "metadata": {},
   "outputs": [
    {
     "data": {
      "text/plain": [
       "[1045, 2428, 2293, 27036, 2477, 999]"
      ]
     },
     "execution_count": 8,
     "metadata": {},
     "output_type": "execute_result"
    }
   ],
   "source": [
    "conv_tokens=tokenizer.convert_tokens_to_ids(tokens)\n",
    "conv_tokens"
   ]
  },
  {
   "cell_type": "code",
   "execution_count": 9,
   "id": "87ac66e9",
   "metadata": {},
   "outputs": [
    {
     "data": {
      "text/plain": [
       "'i really love fluffy things!'"
      ]
     },
     "execution_count": 9,
     "metadata": {},
     "output_type": "execute_result"
    }
   ],
   "source": [
    "tokenizer.decode(conv_tokens)"
   ]
  },
  {
   "cell_type": "code",
   "execution_count": 10,
   "id": "347e6bea",
   "metadata": {},
   "outputs": [],
   "source": [
    "checkpoint = \"distilbert-base-uncased-finetuned-sst-2-english\"\n",
    "model = AutoModelForSequenceClassification.from_pretrained(checkpoint)"
   ]
  },
  {
   "cell_type": "code",
   "execution_count": 11,
   "id": "8924f2c7",
   "metadata": {},
   "outputs": [],
   "source": [
    "outputs = model(**inputs)"
   ]
  },
  {
   "cell_type": "code",
   "execution_count": 12,
   "id": "bc4f2a60",
   "metadata": {},
   "outputs": [
    {
     "data": {
      "text/plain": [
       "tensor([[-4.1258,  4.4430],\n",
       "        [ 3.5439, -2.9151],\n",
       "        [ 4.1395, -3.3189],\n",
       "        [ 2.1859, -1.8846],\n",
       "        [-4.2130,  4.5640]], grad_fn=<AddmmBackward0>)"
      ]
     },
     "execution_count": 12,
     "metadata": {},
     "output_type": "execute_result"
    }
   ],
   "source": [
    "outputs.logits"
   ]
  },
  {
   "cell_type": "code",
   "execution_count": 13,
   "id": "cb153787",
   "metadata": {},
   "outputs": [
    {
     "data": {
      "text/plain": [
       "tensor([[1.8991e-04, 9.9981e-01],\n",
       "        [9.9844e-01, 1.5640e-03],\n",
       "        [9.9942e-01, 5.7625e-04],\n",
       "        [9.8322e-01, 1.6783e-02],\n",
       "        [1.5422e-04, 9.9985e-01]], grad_fn=<SoftmaxBackward0>)"
      ]
     },
     "execution_count": 13,
     "metadata": {},
     "output_type": "execute_result"
    }
   ],
   "source": [
    "predictions = torch.nn.functional.softmax(outputs.logits, dim=-1)\n",
    "predictions"
   ]
  },
  {
   "cell_type": "code",
   "execution_count": 14,
   "id": "415762ab",
   "metadata": {},
   "outputs": [],
   "source": [
    "labels=model.config.id2label"
   ]
  },
  {
   "cell_type": "code",
   "execution_count": 17,
   "id": "d85010bd",
   "metadata": {},
   "outputs": [
    {
     "data": {
      "text/plain": [
       "{0: 'NEGATIVE', 1: 'POSITIVE'}"
      ]
     },
     "execution_count": 17,
     "metadata": {},
     "output_type": "execute_result"
    }
   ],
   "source": [
    "labels"
   ]
  },
  {
   "cell_type": "code",
   "execution_count": 18,
   "id": "c5b34905",
   "metadata": {},
   "outputs": [
    {
     "name": "stdout",
     "output_type": "stream",
     "text": [
      "Predictions\n",
      "1. NEGATIVE : 0.00018990747048519552\n",
      "   POSITIVE : 0.9998101592063904\n",
      "2. NEGATIVE : 0.9984360337257385\n",
      "   POSITIVE : 0.001564009115099907\n",
      "3. NEGATIVE : 0.9994237422943115\n",
      "   POSITIVE : 0.0005762474611401558\n",
      "4. NEGATIVE : 0.9832171201705933\n",
      "   POSITIVE : 0.01678292639553547\n",
      "5. NEGATIVE : 0.0001542178652016446\n",
      "   POSITIVE : 0.9998457431793213\n"
     ]
    }
   ],
   "source": [
    "print(\"Predictions\")\n",
    "for i in range(len(raw_inputs)):\n",
    "    print(str(i+1) + \". \" + labels[0] + \" : \" + str(float(predictions[i][0])))\n",
    "    print(\"   \" + labels[1] + \" : \" + str(float(predictions[i][1])))"
   ]
  },
  {
   "cell_type": "code",
   "execution_count": null,
   "id": "b8f94948",
   "metadata": {},
   "outputs": [],
   "source": []
  }
 ],
 "metadata": {
  "kernelspec": {
   "display_name": "Python 3 (ipykernel)",
   "language": "python",
   "name": "python3"
  },
  "language_info": {
   "codemirror_mode": {
    "name": "ipython",
    "version": 3
   },
   "file_extension": ".py",
   "mimetype": "text/x-python",
   "name": "python",
   "nbconvert_exporter": "python",
   "pygments_lexer": "ipython3",
   "version": "3.9.13"
  }
 },
 "nbformat": 4,
 "nbformat_minor": 5
}
